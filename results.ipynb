{
 "cells": [
  {
   "cell_type": "markdown",
   "metadata": {},
   "source": [
    "## HERE IS THE RESULT OF PLAYING THE API CODE ✅"
   ]
  },
  {
   "cell_type": "markdown",
   "metadata": {},
   "source": [
    "#### The Following code return a table of dapps with aggrate metrics that for a specific chain."
   ]
  },
  {
   "cell_type": "code",
   "execution_count": null,
   "metadata": {},
   "outputs": [],
   "source": [
    "\n",
    "import requests\n",
    "from tabulate import tabulate\n",
    "\n",
    "project = \"4tsxo4vuhotaojtl\"\n",
    "url = \"https://api.dappradar.com/\" + project + \"/dapps/aggregated/metrics\"\n",
    "\n",
    "query = {\n",
    "  \"chain\": \"binance-smart-chain\",\n",
    "  \"range\": \"24h\",\n",
    "  \"page\": \"1\",\n",
    "  \"resultsPerPage\": \"10\"\n",
    "}\n",
    "\n",
    "headers = {\"X-BLOBR-KEY\": \"XboyJNloHLbWAAsEntXoLdL0fBK42R0N\"}\n",
    "\n",
    "response = requests.get(url, headers=headers, params=query)\n",
    "\n",
    "data = response.json()\n",
    "\n",
    "# Check if 'results' key exists in the response\n",
    "if 'results' in data:\n",
    "    table_data = []\n",
    "\n",
    "    for item in data['results']:\n",
    "        row = [\n",
    "            item['dappId'],\n",
    "            item['name'],\n",
    "        ]\n",
    "        row.extend(item['metrics'].values())\n",
    "        table_data.append(row)\n",
    "\n",
    "    headers = ['dappId', 'name']\n",
    "    headers.extend(item['metrics'].keys())\n",
    "\n",
    "    print(tabulate(table_data, headers, tablefmt=\"grid\"))\n",
    "else:\n",
    "    print(\"No 'results' key found in the API response.\")\n",
    "\n"
   ]
  }
 ],
 "metadata": {
  "language_info": {
   "name": "python"
  },
  "orig_nbformat": 4
 },
 "nbformat": 4,
 "nbformat_minor": 2
}
