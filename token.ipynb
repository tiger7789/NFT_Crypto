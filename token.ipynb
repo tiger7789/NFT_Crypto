{
 "cells": [
  {
   "cell_type": "markdown",
   "metadata": {},
   "source": [
    "# TOKENS API"
   ]
  },
  {
   "cell_type": "code",
   "execution_count": 9,
   "metadata": {},
   "outputs": [
    {
     "name": "stdout",
     "output_type": "stream",
     "text": [
      "{'success': True, 'chains': ['algorand', 'arbitrum', 'astar', 'aurora', 'avalanche', 'base', 'binancechain', 'bitcoin', 'bitcoincash', 'bora', 'binance-smart-chain', 'cardano', 'celo', 'core', 'cosmos', 'cronos', 'defikingdoms', 'dep', 'elysium', 'eos', 'eosevm', 'ethereum', 'everscale', 'evmos', 'fantom', 'fio', 'flow', 'fuse', 'fusion', 'harmony', 'heco', 'hedera', 'hive', 'immutablex', 'iost', 'iotex', 'kardiachain', 'klaytn', 'kusama', 'linea', 'litecoin', 'loom', 'polygon', 'mooi', 'moonbeam', 'moonriver', 'near', 'neo', 'ninechronicles', 'notblockchain', 'oasis', 'oasyschainverse', 'oasysdefiverse', 'oasyshomeverse', 'oasysmainnet', 'oasysmchverse', 'oasyssaakuruverse', 'oasystcgverse', 'oec', 'ontology', 'optimism', 'platon', 'polkadot', 'rangers', 'ripple', 'ronin', 'rsk', 'sapphire', 'shiden', 'skale', 'skalebattleground', 'skalecalypso', 'skaleeuropa', 'skaleexorde', 'skalenebula', 'skaleomnus', 'skalerazor', 'solana', 'stacks', 'stargaze', 'starkware', 'steem', 'sxnetwork', 'telos', 'telosevm', 'tezos', 'theta', 'thundercore', 'tron', 'vechain', 'vulcanforged', 'waves', 'wax', 'zcash', 'zilliqa', 'zksyncera']}\n",
      "['algorand', 'arbitrum', 'astar', 'aurora', 'avalanche', 'base', 'binancechain', 'bitcoin', 'bitcoincash', 'bora', 'binance-smart-chain', 'cardano', 'celo', 'core', 'cosmos', 'cronos', 'defikingdoms', 'dep', 'elysium', 'eos', 'eosevm', 'ethereum', 'everscale', 'evmos', 'fantom', 'fio', 'flow', 'fuse', 'fusion', 'harmony', 'heco', 'hedera', 'hive', 'immutablex', 'iost', 'iotex', 'kardiachain', 'klaytn', 'kusama', 'linea', 'litecoin', 'loom', 'polygon', 'mooi', 'moonbeam', 'moonriver', 'near', 'neo', 'ninechronicles', 'notblockchain', 'oasis', 'oasyschainverse', 'oasysdefiverse', 'oasyshomeverse', 'oasysmainnet', 'oasysmchverse', 'oasyssaakuruverse', 'oasystcgverse', 'oec', 'ontology', 'optimism', 'platon', 'polkadot', 'rangers', 'ripple', 'ronin', 'rsk', 'sapphire', 'shiden', 'skale', 'skalebattleground', 'skalecalypso', 'skaleeuropa', 'skaleexorde', 'skalenebula', 'skaleomnus', 'skalerazor', 'solana', 'stacks', 'stargaze', 'starkware', 'steem', 'sxnetwork', 'telos', 'telosevm', 'tezos', 'theta', 'thundercore', 'tron', 'vechain', 'vulcanforged', 'waves', 'wax', 'zcash', 'zilliqa', 'zksyncera']\n"
     ]
    }
   ],
   "source": [
    "# Supported Token Chains\n",
    "import requests\n",
    "\n",
    "project = \"4tsxo4vuhotaojtl\"\n",
    "url = \"https://api.dappradar.com/\" + project + \"/tokens/chains\"\n",
    "\n",
    "headers = {\"X-BLOBR-KEY\": \"CXsyDoeXL4fGyauaVAgmVqiTRkRJ5V9U\"}\n",
    "\n",
    "response = requests.get(url, headers=headers)\n",
    "\n",
    "data = response.json()\n",
    "print(data)\n",
    "# get the avaible token chains\n",
    "token_chains = data.get('chains', []) if data.get('success') else []\n",
    "print(token_chains)"
   ]
  },
  {
   "cell_type": "code",
   "execution_count": 18,
   "metadata": {},
   "outputs": [
    {
     "name": "stdout",
     "output_type": "stream",
     "text": [
      "{'success': True, 'results': {'price': 2235.4, 'updatedAt': 1702654092100}}\n",
      "{'requestId': '1702654604375337386-YXdzLXVzLWVhc3QtMQ==-5d0fd15808174fcc8fb6f2fefdd24d40b8be781fe21049b3b077f207826276aa', 'message': 'Endpoint not available'}\n",
      "{'success': True, 'results': {'name': 'Ethereum', 'symbol': 'eth', 'logo': None, 'decimals': 18}}\n",
      "{'success': True, 'range': '24h', 'results': {'volume': 18755646722, 'marketCap': 274787046543.39404, 'priceChange': -2.58}}\n"
     ]
    }
   ],
   "source": [
    "import requests\n",
    "\n",
    "chain = \"ethereum\"\n",
    "address = \"0x0000000000000000000000000000000000000000\"\n",
    "project = \"4tsxo4vuhotaojtl\"\n",
    "url = \"https://api.dappradar.com/\" + project + \"/tokens/price/\" + chain + \"/\" + address\n",
    "\n",
    "headers = {\"X-BLOBR-KEY\": \"CXsyDoeXL4fGyauaVAgmVqiTRkRJ5V9U\"}\n",
    "\n",
    "response = requests.get(url, headers=headers)\n",
    "\n",
    "data_current = response.json()\n",
    "print(data)\n",
    "\n",
    "# historical token price\n",
    "url_historical = \"https://api.dappradar.com/\" + project + \"/tokens/historical-price/\" + chain + \"/\" + address\n",
    "\n",
    "historical_query = {\n",
    "  \"dateFrom\": \"2019-08-24\",\n",
    "  \"dateTo\": \"2019-08-24\"\n",
    "}\n",
    "response_historical = requests.get(url_historical, headers=headers, params=historical_query)\n",
    "\n",
    "data_historical = response_historical.json()\n",
    "print(data_historical)\n",
    "\n",
    "# get token static information\n",
    "url_static = \"https://api.dappradar.com/\" + project + \"/tokens/info/\" + chain + \"/\" + address\n",
    "response_static = requests.get(url_static, headers=headers)\n",
    "\n",
    "data_static = response_static.json()\n",
    "print(data_static)\n",
    "\n",
    "# get token metrics\n",
    "metric_query = {\n",
    "  \"range\": \"24h\"\n",
    "}\n",
    "url_metrics = \"https://api.dappradar.com/\" + project + \"/tokens/metrics/\" + chain + \"/\" + address\n",
    "response_metrics = requests.get(url_metrics, headers=headers, params=metric_query)\n",
    "\n",
    "data_metrics = response_metrics.json()\n",
    "print(data_metrics)\n"
   ]
  },
  {
   "cell_type": "code",
   "execution_count": null,
   "metadata": {},
   "outputs": [],
   "source": []
  }
 ],
 "metadata": {
  "kernelspec": {
   "display_name": "base",
   "language": "python",
   "name": "python3"
  },
  "language_info": {
   "codemirror_mode": {
    "name": "ipython",
    "version": 3
   },
   "file_extension": ".py",
   "mimetype": "text/x-python",
   "name": "python",
   "nbconvert_exporter": "python",
   "pygments_lexer": "ipython3",
   "version": "3.11.4"
  }
 },
 "nbformat": 4,
 "nbformat_minor": 2
}
