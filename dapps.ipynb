{
 "cells": [
  {
   "cell_type": "markdown",
   "metadata": {},
   "source": [
    "# Defi API"
   ]
  },
  {
   "cell_type": "code",
   "execution_count": 3,
   "metadata": {},
   "outputs": [
    {
     "name": "stdout",
     "output_type": "stream",
     "text": [
      "{'success': True, 'chains': ['arbitrum', 'aurora', 'avalanche', 'base', 'bnb-chain', 'celo', 'core', 'cronos', 'elysium', 'ethereum', 'fantom', 'hedera', 'linea', 'moonbeam', 'moonriver', 'near', 'optimism', 'polygon', 'ronin', 'solana', 'stacks', 'tezos', 'wax', 'zksync-era']}\n",
      "['arbitrum', 'aurora', 'avalanche', 'base', 'bnb-chain', 'celo', 'core', 'cronos', 'elysium', 'ethereum', 'fantom', 'hedera', 'linea', 'moonbeam', 'moonriver', 'near', 'optimism', 'polygon', 'ronin', 'solana', 'stacks', 'tezos', 'wax', 'zksync-era']\n"
     ]
    }
   ],
   "source": [
    "# get supported Defi Chains\n",
    "import requests\n",
    "\n",
    "project = \"4tsxo4vuhotaojtl\"\n",
    "url = \"https://api.dappradar.com/\" + project + \"/defi/chains\"\n",
    "\n",
    "headers = {\"X-BLOBR-KEY\": \"CXsyDoeXL4fGyauaVAgmVqiTRkRJ5V9U\"}\n",
    "\n",
    "response = requests.get(url, headers=headers)\n",
    "\n",
    "data = response.json()\n",
    "print(data)\n",
    "token_chains = data.get('chains', []) if data.get('success') else []\n",
    "print(token_chains)"
   ]
  },
  {
   "cell_type": "code",
   "execution_count": 2,
   "metadata": {},
   "outputs": [
    {
     "name": "stdout",
     "output_type": "stream",
     "text": [
      "{'success': True, 'chain': 'ethereum', 'range': '24h', 'sort': 'tokenPrice', 'order': 'asc', 'results': [{'dappId': 8014, 'logo': 'https://dashboard-assets.dappradar.com/geRRcWz9IdTwSrm1/document/8014/shibaswap-dapp-defi-ethereum-logo_f55da21124bdc84df75bdc24ed5eb1e1.png', 'name': 'ShibaSwap', 'chains': ['ethereum'], 'tokenName': 'Shiba Inu', 'tokenLogo': 'https://token-repository.dappradar.com/tokens?protocol=ethereum&contract=0x95ad61b0a150d79219dcf64e1e6cc01f0b64c4ce&file=logo.png', 'tokenPrice': 9.75e-06, 'tokenPricePercentageChange': -2.6, 'tokenSymbol': 'SHIB', 'marketCap': 5887282072.7769, 'marketCapPercentageChange': 1.32, 'adjustedTvl': 21055029.875233, 'adjustedTvlPercentageChange': -0.5, 'tvl': 24857222.880516, 'tvlPercentageChange': -1.78, 'marketCapTvl': 236.84}, {'dappId': 8681, 'logo': 'https://dashboard-assets.dappradar.com/geRRcWz9IdTwSrm1/document/8681/justmoneyexchange-dapp-exchanges-tron-logo_d49aec35f8e90250ebae2d9c5f385082.png', 'name': 'JustMoney Swap', 'chains': ['bnb-chain', 'ethereum', 'polygon'], 'tokenName': 'JustMoney', 'tokenLogo': 'https://token-repository.dappradar.com/tokens?protocol=polygon&contract=0x388d819724dd6d71760a38f00dc01d310d879771&file=logo.png', 'tokenPrice': 1.4e-05, 'tokenPricePercentageChange': -4.57, 'tokenSymbol': 'JM', 'marketCap': None, 'marketCapPercentageChange': None, 'adjustedTvl': 77991.846627352, 'adjustedTvlPercentageChange': -0.51, 'tvl': 105334.12838481, 'tvlPercentageChange': -0.94, 'marketCapTvl': None}, {'dappId': 7488, 'logo': 'https://dashboard-assets.dappradar.com/geRRcWz9IdTwSrm1/document/7488/universexyz-dapp-defi-ethereum-logo_abd8f2c6991a9854b06482e18c90ea8e.png', 'name': 'Universe.XYZ', 'chains': ['ethereum'], 'tokenName': 'Universe.XYZ', 'tokenLogo': 'https://token-repository.dappradar.com/tokens?protocol=ethereum&contract=0x618679df9efcd19694bb1daa8d00718eacfa2883&file=logo.png', 'tokenPrice': 9.309e-05, 'tokenPricePercentageChange': 0, 'tokenSymbol': 'XYZ', 'marketCap': 69108.4651, 'marketCapPercentageChange': 0, 'adjustedTvl': 1157262.3824511, 'adjustedTvlPercentageChange': 5.44, 'tvl': 2296957.8368573, 'tvlPercentageChange': 11.02, 'marketCapTvl': 0.03}, {'dappId': 5992, 'logo': 'https://dashboard-assets.dappradar.com/geRRcWz9IdTwSrm1/document/5992/wepiggy-dapp-defi-ethereum-logo_85fb11857ddd323f2a07c5f459582c81.png', 'name': 'WePiggy', 'chains': ['bnb-chain', 'ethereum', 'polygon'], 'tokenName': 'WePiggy Coin', 'tokenLogo': 'https://token-repository.dappradar.com/tokens?protocol=ethereum&contract=0x6f620ec89b8479e97a6985792d0c64f237566746&file=logo.png', 'tokenPrice': 0.00020136, 'tokenPricePercentageChange': 0, 'tokenSymbol': 'WPC', 'marketCap': None, 'marketCapPercentageChange': None, 'adjustedTvl': 1857377.73626, 'adjustedTvlPercentageChange': -0.28, 'tvl': 2650221.9321815, 'tvlPercentageChange': -0.96, 'marketCapTvl': None}, {'dappId': 10383, 'logo': 'https://dashboard-assets.dappradar.com/geRRcWz9IdTwSrm1/document/10383/abracadabramoney-dapp-defi-ethereum-logo_475bad798aff5bbae8b25e2de909502d.png', 'name': 'Abracadabra.Money', 'chains': ['bnb-chain', 'ethereum'], 'tokenName': 'Spell', 'tokenLogo': 'https://token-repository.dappradar.com/tokens?protocol=ethereum&contract=0x090185f2135308bad17527004364ebcc2d37e5f6&file=logo.png', 'tokenPrice': 0.00059152, 'tokenPricePercentageChange': -2.39, 'tokenSymbol': 'SPELL', 'marketCap': 78236406.88176, 'marketCapPercentageChange': 1.66, 'adjustedTvl': 23299905.97164, 'adjustedTvlPercentageChange': -0.67, 'tvl': 30380729.126744, 'tvlPercentageChange': -1.67, 'marketCapTvl': 2.58}, {'dappId': 5635, 'logo': 'https://dashboard-assets.dappradar.com/geRRcWz9IdTwSrm1/document/5635/apebond-dapp-exchanges-5635-logo_73ab0733f0277d021153052713c1f7cd.png', 'name': 'ApeBond', 'chains': ['arbitrum', 'bnb-chain', 'ethereum', 'polygon'], 'tokenName': 'ApeSwap', 'tokenLogo': 'https://token-repository.dappradar.com/tokens?protocol=binance-smart-chain&contract=0x603c7f932ed1fc6575303d8fb018fdcbb0f39a95&file=logo.png', 'tokenPrice': 0.00076911, 'tokenPricePercentageChange': 0.73, 'tokenSymbol': 'BANANA', 'marketCap': 179696.22534, 'marketCapPercentageChange': -29.73, 'adjustedTvl': 335.73564184166, 'adjustedTvlPercentageChange': -0.31, 'tvl': 420.40510069877, 'tvlPercentageChange': -1.05, 'marketCapTvl': 427.44}, {'dappId': 4348, 'logo': 'https://dashboard-assets.dappradar.com/geRRcWz9IdTwSrm1/document/4348/perlinx-dapp-defi-ethereum-logo_f70356d6b03fed22b52d8c4db7636155.png', 'name': 'PerlinX', 'chains': ['ethereum'], 'tokenName': 'PERL.eco', 'tokenLogo': 'https://assets.coingecko.com/coins/images/4682/large/PERL.eco-Icon-green_6x.png?1696505249', 'tokenPrice': 0.0029321, 'tokenPricePercentageChange': -6.24, 'tokenSymbol': 'PERL', 'marketCap': None, 'marketCapPercentageChange': None, 'adjustedTvl': 245524.64421059, 'adjustedTvlPercentageChange': 1.38, 'tvl': 88240.832933314, 'tvlPercentageChange': -1.57, 'marketCapTvl': None}, {'dappId': 5707, 'logo': 'https://dashboard-assets.dappradar.com/geRRcWz9IdTwSrm1/document/5707/flexa-dapp-defi-ethereum-logo_556b275dc095e37a755cea1f990e0b85.png', 'name': 'Flexa', 'chains': ['ethereum'], 'tokenName': 'Amp', 'tokenLogo': 'https://token-repository.dappradar.com/tokens?protocol=ethereum&contract=0xff20817765cb7f73d4bde2e66e067e58d11095c2&file=logo.png', 'tokenPrice': 0.0037411, 'tokenPricePercentageChange': -5.15, 'tokenSymbol': 'AMP', 'marketCap': 214698905.51919, 'marketCapPercentageChange': -4.63, 'adjustedTvl': 38701156.503524, 'adjustedTvlPercentageChange': -0.26, 'tvl': 84359726.122174, 'tvlPercentageChange': -3.77, 'marketCapTvl': 2.55}, {'dappId': 9809, 'logo': 'https://dashboard-assets.dappradar.com/geRRcWz9IdTwSrm1/document/9809/coinwind-dapp-defi-ethereum-logo_31b3664f46cb329abe55822cb47c8519.png', 'name': 'Coinwind', 'chains': ['bnb-chain', 'ethereum'], 'tokenName': 'CoinWind', 'tokenLogo': 'https://token-repository.dappradar.com/tokens?protocol=ethereum&contract=0x34965f73cfa05bf8d8af37cb4af64fa950605ea8&file=logo.png', 'tokenPrice': 0.00727395, 'tokenPricePercentageChange': -1.11, 'tokenSymbol': 'COW', 'marketCap': None, 'marketCapPercentageChange': None, 'adjustedTvl': 22083941.157486, 'adjustedTvlPercentageChange': -0.28, 'tvl': 30456930.937666, 'tvlPercentageChange': -0.9, 'marketCapTvl': None}, {'dappId': 17501, 'logo': 'https://dashboard-assets.dappradar.com/geRRcWz9IdTwSrm1/document/17501/radartoken-dapp-defi-ethereum-logo_5d7cbd90ba1de8c26358f50ec0e2fcce.png', 'name': 'RADAR Staking', 'chains': ['bnb-chain', 'ethereum'], 'tokenName': 'DappRadar', 'tokenLogo': 'https://token-repository.dappradar.com/tokens?protocol=ethereum&contract=0x44709a920fccf795fbc57baa433cc3dd53c44dbe&file=logo.png', 'tokenPrice': 0.00729817, 'tokenPricePercentageChange': -4.69, 'tokenSymbol': 'RADAR', 'marketCap': 7801484.16577, 'marketCapPercentageChange': -1.89, 'adjustedTvl': 567383.70837716, 'adjustedTvlPercentageChange': -0.96, 'tvl': 734127.60002972, 'tvlPercentageChange': -4.95, 'marketCapTvl': 10.63}], 'page': 1, 'pageCount': 12, 'resultCount': 112, 'resultsPerPage': 10}\n",
      "[]\n"
     ]
    }
   ],
   "source": [
    "# get multiple Defi dapps data\n",
    "import requests\n",
    "\n",
    "project = \"4tsxo4vuhotaojtl\"\n",
    "url = \"https://api.dappradar.com/\" + project + \"/defi/dapps\"\n",
    "\n",
    "query = {\n",
    "  \"chain\": \"ethereum\",\n",
    "  \"range\": \"24h\",\n",
    "  \"sort\": \"tokenPrice\",\n",
    "  \"order\": \"asc\",\n",
    "  \"page\": \"1\",\n",
    "  \"resultsPerPage\": \"10\"\n",
    "}\n",
    "\n",
    "headers = {\"X-BLOBR-KEY\": \"CXsyDoeXL4fGyauaVAgmVqiTRkRJ5V9U\"}\n",
    "\n",
    "response = requests.get(url, headers=headers, params=query)\n",
    "\n",
    "data = response.json()\n",
    "print(data)\n",
    "\n",
    "# print data in list\n",
    "dapps = data.get('dapps', []) if data.get('success') else []\n",
    "print(dapps)\n",
    "\n",
    "\n",
    "\n"
   ]
  },
  {
   "cell_type": "code",
   "execution_count": 7,
   "metadata": {},
   "outputs": [
    {
     "name": "stdout",
     "output_type": "stream",
     "text": [
      "{'success': False, 'message': 'DeFi dapp not found!'}\n"
     ]
    }
   ],
   "source": [
    "import requests\n",
    "\n",
    "dapp_id = \"99999\"\n",
    "project = \"4tsxo4vuhotaojtl\"\n",
    "url = \"https://api.dappradar.com/\" + project + \"/defi/dapps/\" + dapp_id\n",
    "\n",
    "query = {\n",
    "  \"chain\": \"near\",\n",
    "  \"range\": \"24h\"\n",
    "}\n",
    "\n",
    "headers = {\"X-BLOBR-KEY\": \"CXsyDoeXL4fGyauaVAgmVqiTRkRJ5V9U\"}\n",
    "\n",
    "response = requests.get(url, headers=headers, params=query)\n",
    "\n",
    "data = response.json()\n",
    "print(data)"
   ]
  }
 ],
 "metadata": {
  "kernelspec": {
   "display_name": "base",
   "language": "python",
   "name": "python3"
  },
  "language_info": {
   "codemirror_mode": {
    "name": "ipython",
    "version": 3
   },
   "file_extension": ".py",
   "mimetype": "text/x-python",
   "name": "python",
   "nbconvert_exporter": "python",
   "pygments_lexer": "ipython3",
   "version": "3.11.4"
  }
 },
 "nbformat": 4,
 "nbformat_minor": 2
}
