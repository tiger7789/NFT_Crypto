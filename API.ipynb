{
 "cells": [
  {
   "cell_type": "markdown",
   "metadata": {},
   "source": [
    "## Dapps 🪙\n",
    "Dapps Definition: Decentralized Applications (dApps) are software programs that run on a blockchain network of computers instead of on a single computer. \n",
    "Dapp Rader API: over 50 indexed Blockchins -> 12000 dapps.\n",
    "\n"
   ]
  },
  {
   "cell_type": "markdown",
   "metadata": {},
   "source": [
    "### Get Supported Chains 🔗\n",
    "This endpoint returns all supported chains in the dapp ranking. \n",
    "```python\n",
    "import requests\n",
    "\n",
    "project = \"4tsxo4vuhotaojtl\"\n",
    "url = \"https://api.dappradar.com/\" + project + \"/dapps/chains\"\n",
    "\n",
    "headers = {\"X-BLOBR-KEY\": \"XboyJNloHLbWAAsEntXoLdL0fBK42R0N\"}\n",
    "\n",
    "response = requests.get(url, headers=headers)\n",
    "\n",
    "data = response.json()\n",
    "\n",
    "```\n",
    "#### 👇The API is supported the following chains👇: \n",
    "'algorand', 'arbitrum', 'astar', 'aurora', 'avalanche', 'base', 'binance-smart-chain', 'cardano', 'celo', 'cronos', 'defikingdoms', 'dep', 'elysium', 'eos', 'ethereum', 'fantom', 'flow', 'harmony', 'hedera', 'hive', 'immutablex', 'iotex', 'klaytn', 'mooi', 'moonbeam', 'moonriver', 'near', 'oasis', 'oasis-sapphire', 'ontology', 'optimism', 'other', 'platon', 'polygon', 'rangers', 'ronin', 'shiden', 'skale', 'solana', 'stacks', 'stargaze', 'steem', 'sxnetwork', 'telos', 'telosevm', 'tezos', 'thundercore', 'tron', 'vechain', 'vulcanforged', 'wax', 'zilliqa', 'zksync-era'\n",
    "\n",
    "--------------------"
   ]
  },
  {
   "cell_type": "markdown",
   "metadata": {},
   "source": [
    "### Get supported categories👀\n",
    "This endpoint returns all supported categories in the dapp rankings. \n",
    "```Python\n",
    "import requests\n",
    "\n",
    "project = \"4tsxo4vuhotaojtl\"\n",
    "url = \"https://api.dappradar.com/\" + project + \"/dapps/categories\"\n",
    "\n",
    "headers = {\"X-BLOBR-KEY\": \"XboyJNloHLbWAAsEntXoLdL0fBK42R0N\"}\n",
    "\n",
    "response = requests.get(url, headers=headers)\n",
    "\n",
    "data = response.json()\n",
    "print(data)\n",
    "```\n",
    "#### 👇The API is supported the following categories👇: \n",
    "'games', 'defi', 'collectibles', 'marketplaces', 'high-risk', 'gambling', 'exchanges', 'social', 'other'\n",
    "\n",
    "--------------------------------"
   ]
  },
  {
   "cell_type": "markdown",
   "metadata": {},
   "source": [
    "### Get multiple Dapps data 📊\n",
    "This endpoint returns a list of multiple dapps and pages from a __certain chain__, __specific page__ and expected __results per page__. \n",
    "```Python\n",
    "import requests\n",
    "\n",
    "project = \"4tsxo4vuhotaojtl\"\n",
    "url = \"https://api.dappradar.com/\" + project + \"/dapps\"\n",
    "\n",
    "query = {\n",
    "  \"chain\": \"string\",\n",
    "  \"page\": \"1\",\n",
    "  \"resultsPerPage\": \"10\"\n",
    "}\n",
    "\n",
    "headers = {\"X-BLOBR-KEY\": \"XboyJNloHLbWAAsEntXoLdL0fBK42R0N\"}\n",
    "\n",
    "response = requests.get(url, headers=headers, params=query)\n",
    "\n",
    "data = response.json()\n",
    "print(data)\n",
    "```\n",
    "#### 👇The API does not work👇: \n",
    "__Bug__\n",
    "Responses 400: BAD REQUEST\n",
    "\n",
    "--------------------------------"
   ]
  },
  {
   "cell_type": "markdown",
   "metadata": {},
   "source": [
    "### Get signle Dapps data 📊\n",
    "This endpoint provides users, transactions, volume, balance for a specific dapp. Input is required as the dappId, timeframe (24 hours, 7d or 30d) and chains for data retrieval. The dappId can be sourced from the paginated list or the dapp's about page. \n",
    "```Python\n",
    "import requests\n",
    "\n",
    "dapp_id = \"YOUR_dappId_PARAMETER\" #Need to provide adappId in order to run the following code.\n",
    "project = \"4tsxo4vuhotaojtl\"\n",
    "url = \"https://api.dappradar.com/\" + project + \"/dapps/\" + dapp_id\n",
    "\n",
    "query = {\n",
    "  \"chain\": \"string\",\n",
    "  \"range\": \"24h\"\n",
    "}\n",
    "\n",
    "headers = {\"X-BLOBR-KEY\": \"XboyJNloHLbWAAsEntXoLdL0fBK42R0N\"}\n",
    "\n",
    "response = requests.get(url, headers=headers, params=query)\n",
    "\n",
    "data = response.json()\n",
    "print(data)\n",
    "```\n",
    "#### 👇The API does not work👇: \n",
    "__Input Error__\n",
    "* Need to provide adappId in order to run the following code.\n",
    "* To do: understand ADappId and test it\n",
    "\n",
    "--------------------------------"
   ]
  }
 ],
 "metadata": {
  "kernelspec": {
   "display_name": "base",
   "language": "python",
   "name": "python3"
  },
  "language_info": {
   "codemirror_mode": {
    "name": "ipython",
    "version": 3
   },
   "file_extension": ".py",
   "mimetype": "text/x-python",
   "name": "python",
   "nbconvert_exporter": "python",
   "pygments_lexer": "ipython3",
   "version": "3.11.4"
  },
  "orig_nbformat": 4
 },
 "nbformat": 4,
 "nbformat_minor": 2
}
